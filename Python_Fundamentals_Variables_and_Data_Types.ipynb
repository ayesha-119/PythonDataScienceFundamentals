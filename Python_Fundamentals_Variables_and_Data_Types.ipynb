{
  "nbformat": 4,
  "nbformat_minor": 0,
  "metadata": {
    "colab": {
      "provenance": [],
      "authorship_tag": "ABX9TyORFYzhmvPxj2zV29j4qCxM",
      "include_colab_link": true
    },
    "kernelspec": {
      "name": "python3",
      "display_name": "Python 3"
    },
    "language_info": {
      "name": "python"
    }
  },
  "cells": [
    {
      "cell_type": "markdown",
      "metadata": {
        "id": "view-in-github",
        "colab_type": "text"
      },
      "source": [
        "<a href=\"https://colab.research.google.com/github/ayesha-119/PythonDataScienceFundamentals/blob/main/Python_Fundamentals_Variables_and_Data_Types.ipynb\" target=\"_parent\"><img src=\"https://colab.research.google.com/assets/colab-badge.svg\" alt=\"Open In Colab\"/></a>"
      ]
    },
    {
      "cell_type": "markdown",
      "source": [
        "# **Introduction to Python Syntax, Variables, and Data Types**\n",
        "\n",
        "\n",
        "Welcome to the Python Syntax, Variables, and Data Types section of this GitHub repository! In this section, we will dive into the fundamentals of Python programming, covering the essential syntax, working with variables, and understanding different data types. Let's get started!"
      ],
      "metadata": {
        "id": "K5fvmbQ-JuTR"
      }
    },
    {
      "cell_type": "markdown",
      "source": [
        "# **Syntax Structure and Code Blocks**\n",
        "\n",
        "\n",
        "Python has a clean and readable syntax that makes it a popular choice among programmers. It relies on indentation to define code blocks, rather than using braces or keywords like other programming languages. This indentation-based structure enhances code readability and enforces consistent formatting.\n",
        "\n",
        "\n",
        "\n",
        "Here's an example of a Python program that prints \"Hello, World!\":"
      ],
      "metadata": {
        "id": "PL5OtzMrKdhs"
      }
    },
    {
      "cell_type": "code",
      "execution_count": 1,
      "metadata": {
        "colab": {
          "base_uri": "https://localhost:8080/"
        },
        "id": "oeJw-wecHpAR",
        "outputId": "461fbfd5-6812-4cef-9427-2e9ce7e766c7"
      },
      "outputs": [
        {
          "output_type": "stream",
          "name": "stdout",
          "text": [
            "Hello world!\n"
          ]
        }
      ],
      "source": [
        "print(\"Hello world!\")"
      ]
    },
    {
      "cell_type": "markdown",
      "source": [
        "**Comments: Adding Clarity to Your Code**\n",
        "\n",
        "\n",
        "Comments are essential for adding explanatory notes to your code. They help you and others understand the purpose and functionality of specific sections of your program. In Python, comments are preceded by the # symbol.\n",
        "\n",
        "\n",
        "Here's an example that demonstrates the usage of comments:"
      ],
      "metadata": {
        "id": "IhYzp2gRK0LP"
      }
    },
    {
      "cell_type": "code",
      "source": [
        "# This is a comment in Python\n",
        "print(\"Hello, World!\")  # This line prints the greetings"
      ],
      "metadata": {
        "colab": {
          "base_uri": "https://localhost:8080/"
        },
        "id": "W84GAKiPLA0K",
        "outputId": "f9b0a51b-fa65-4705-d51a-86f8e20a87e1"
      },
      "execution_count": 3,
      "outputs": [
        {
          "output_type": "stream",
          "name": "stdout",
          "text": [
            "Hello, World!\n"
          ]
        }
      ]
    },
    {
      "cell_type": "markdown",
      "source": [
        "Comments are ignored by the Python interpreter and do not affect the execution of your code. They are incredibly useful for documenting your code and providing insights to fellow developers."
      ],
      "metadata": {
        "id": "yEJZJdr6LIHS"
      }
    },
    {
      "cell_type": "markdown",
      "source": [
        "# **Variables**\n",
        "In Python, you can declare a variable and assign a value to it using the following syntax:"
      ],
      "metadata": {
        "id": "niCC8CY8MvAn"
      }
    },
    {
      "cell_type": "code",
      "source": [
        "variable_name = \"value\""
      ],
      "metadata": {
        "id": "1FmW7sj_Mz_e"
      },
      "execution_count": 5,
      "outputs": []
    },
    {
      "cell_type": "markdown",
      "source": [
        "For example:"
      ],
      "metadata": {
        "id": "PRsBHv6RNB1_"
      }
    },
    {
      "cell_type": "code",
      "source": [
        "name = \"John\"\n",
        "age = 25\n",
        "price = 9.99\n",
        "is_student = True"
      ],
      "metadata": {
        "id": "nn-hQIS2NEzy"
      },
      "execution_count": 6,
      "outputs": []
    },
    {
      "cell_type": "markdown",
      "source": [
        "Key concepts related to variables include:\n",
        "\n",
        "**Variable Declaration**\n",
        "\n",
        "In Python, you don't need to explicitly declare variables or specify their data types. You can simply assign a value to a variable, and Python will automatically determine its data type based on the assigned value. This feature is known as dynamic typing.\n",
        "\n",
        "\n",
        "**Naming Conventions**\n",
        "\n",
        "When naming variables, it's important to follow certain conventions to enhance code readability and maintainability. Here are some guidelines:\n",
        "\n",
        "\n",
        "Variable names should start with a letter (a-z, A-Z) or an underscore (_).\n",
        "They can contain letters, digits, and underscores.\n",
        "Variable names are case-sensitive, so my_var and my_Var are considered different variables.\n",
        "\n",
        "It's best to choose descriptive names that reflect the purpose of the variable. For example, instead of using a generic name like x or a, opt for more meaningful names like name, age, or is_student."
      ],
      "metadata": {
        "id": "2K3vY1dNNUqH"
      }
    },
    {
      "cell_type": "markdown",
      "source": [
        "# **Data Types**\n",
        "Python provides several built-in data types that allow you to work with different kinds of data. Here are some commonly used data types:"
      ],
      "metadata": {
        "id": "awGO76HrNpkD"
      }
    },
    {
      "cell_type": "markdown",
      "source": [
        "**Integers**\n",
        "\n",
        "Integers represent whole numbers without any fractional part. They can be positive or negative. For example:"
      ],
      "metadata": {
        "id": "mvlExGSKNv9O"
      }
    },
    {
      "cell_type": "code",
      "source": [
        "age = 25\n",
        "population = 1000000"
      ],
      "metadata": {
        "id": "f_eSMjsgN4WS"
      },
      "execution_count": 7,
      "outputs": []
    },
    {
      "cell_type": "markdown",
      "source": [
        "**Floating-Point Numbers**\n",
        "\n",
        "\n",
        "Floating-point numbers represent decimal numbers. They can have a fractional part. For example:"
      ],
      "metadata": {
        "id": "fELdQubVN7mo"
      }
    },
    {
      "cell_type": "code",
      "source": [
        "pi = 3.14\n",
        "temperature = -15.5\n"
      ],
      "metadata": {
        "id": "TbTyNYE8OBoE"
      },
      "execution_count": 8,
      "outputs": []
    },
    {
      "cell_type": "markdown",
      "source": [
        "**Strings**\n",
        "\n",
        "Strings are sequences of characters enclosed in single ('') or double (\"\") quotes. They are used to represent textual data. For example:"
      ],
      "metadata": {
        "id": "QWKGsVhBOHN5"
      }
    },
    {
      "cell_type": "code",
      "source": [
        "name = \"John\"\n",
        "message = 'Hello, World!'\n"
      ],
      "metadata": {
        "id": "_KQkAlB4OLzI"
      },
      "execution_count": 9,
      "outputs": []
    },
    {
      "cell_type": "markdown",
      "source": [
        "Strings can be concatenated using the + operator or formatted using various string formatting techniques"
      ],
      "metadata": {
        "id": "5JmQ6igQOTSp"
      }
    },
    {
      "cell_type": "markdown",
      "source": [
        "**Booleans**\n",
        "\n",
        "\n",
        "Booleans represent logical values. They can have two possible states: True or False. Booleans are often used in conditional statements and logical operations. For example:"
      ],
      "metadata": {
        "id": "GpJhhkACOXHv"
      }
    },
    {
      "cell_type": "code",
      "source": [
        "is_student = True\n",
        "is_adult = False"
      ],
      "metadata": {
        "id": "eMKZ38UKOcMn"
      },
      "execution_count": 10,
      "outputs": []
    },
    {
      "cell_type": "markdown",
      "source": [
        "**Other Data Types**\n",
        "\n",
        "\n",
        "Python provides additional built-in data types such as lists, tuples, dictionaries, and sets, which allow you to work with collections of values. These data types provide different ways to store and manipulate data based on your requirements."
      ],
      "metadata": {
        "id": "Ij0jI4jMOhN5"
      }
    },
    {
      "cell_type": "markdown",
      "source": [
        "# **Practical Examples**\n",
        "\n",
        "Let's explore some practical examples to solidify our understanding of variables and data types:\n",
        "\n",
        "**Example 1: Working with Integers**"
      ],
      "metadata": {
        "id": "sX3Vd5f3Laus"
      }
    },
    {
      "cell_type": "code",
      "source": [
        "a = 10\n",
        "b = 5\n",
        "\n",
        "# Addition\n",
        "result = a + b\n",
        "print(\"Addition:\", result)\n",
        "\n",
        "# Subtraction\n",
        "result = a - b\n",
        "print(\"Subtraction:\", result)\n",
        "\n",
        "# Multiplication\n",
        "result = a * b\n",
        "print(\"Multiplication:\", result)\n",
        "\n",
        "# Division\n",
        "result = a / b\n",
        "print(\"Division:\", result)"
      ],
      "metadata": {
        "colab": {
          "base_uri": "https://localhost:8080/"
        },
        "id": "tjgS3kM1LfhW",
        "outputId": "0d4e1260-87cc-4e39-af2a-fd565784cc78"
      },
      "execution_count": 11,
      "outputs": [
        {
          "output_type": "stream",
          "name": "stdout",
          "text": [
            "Addition: 15\n",
            "Subtraction: 5\n",
            "Multiplication: 50\n",
            "Division: 2.0\n"
          ]
        }
      ]
    },
    {
      "cell_type": "markdown",
      "source": [
        "**Example 2: Working with Strings**"
      ],
      "metadata": {
        "id": "GrtNqVcLPBQr"
      }
    },
    {
      "cell_type": "code",
      "source": [
        "name = \"Alice\"\n",
        "age = 30\n",
        "\n",
        "# Concatenating strings\n",
        "message = \"My name is \" + name + \" and I am \" + str(age) + \" years old.\"\n",
        "print(message)\n",
        "\n",
        "# String interpolation (Python 3.6+)\n",
        "message = f\"My name is {name} and I am {age} years old.\"\n",
        "print(message)"
      ],
      "metadata": {
        "colab": {
          "base_uri": "https://localhost:8080/"
        },
        "id": "ugU4guCtPFQf",
        "outputId": "77ecf5c9-489e-48f7-8f52-27159c71eac4"
      },
      "execution_count": 12,
      "outputs": [
        {
          "output_type": "stream",
          "name": "stdout",
          "text": [
            "My name is Alice and I am 30 years old.\n",
            "My name is Alice and I am 30 years old.\n"
          ]
        }
      ]
    },
    {
      "cell_type": "markdown",
      "source": [
        "**Example 3: Working with Floating-Point Numbers**"
      ],
      "metadata": {
        "id": "OnDRw_gxP2x0"
      }
    },
    {
      "cell_type": "code",
      "source": [
        "pi = 3.14159\n",
        "radius = 5.0\n",
        "\n",
        "# Calculate the circumference of a circle\n",
        "circumference = 2 * pi * radius\n",
        "print(\"Circumference:\", circumference)\n",
        "\n",
        "# Calculate the area of a circle\n",
        "area = pi * radius ** 2\n",
        "print(\"Area:\", area)\n"
      ],
      "metadata": {
        "colab": {
          "base_uri": "https://localhost:8080/"
        },
        "id": "48FUgJ2DP7Kx",
        "outputId": "79c1b475-0142-473d-cf5e-6aceae130a1f"
      },
      "execution_count": 13,
      "outputs": [
        {
          "output_type": "stream",
          "name": "stdout",
          "text": [
            "Circumference: 31.4159\n",
            "Area: 78.53975\n"
          ]
        }
      ]
    },
    {
      "cell_type": "markdown",
      "source": [
        "# **Get Hands-On with Python!**\n",
        "\n",
        "\n",
        "Now that you have a better understanding of variables and data types in Python, it's time to get hands-on! Open your preferred Python development environment, such as Jupyter Notebook or Google Colab, and start experimenting with variables and different data types. Create your own examples and explore how Python handles different operations with variables.\n",
        "\n",
        "\n",
        "\n",
        "Remember to practice regularly and gradually build your understanding of Python's syntax, variables, and data types. As you progress, you'll gain confidence in using these fundamental concepts to solve more complex problems.\n",
        "\n",
        "Happy coding!"
      ],
      "metadata": {
        "id": "QtfN91a_Q5qb"
      }
    }
  ]
}